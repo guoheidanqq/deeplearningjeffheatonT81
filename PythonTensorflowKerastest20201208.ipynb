{
  "nbformat": 4,
  "nbformat_minor": 0,
  "metadata": {
    "colab": {
      "name": "PythonTensorflowKerastest20201208.ipynb",
      "provenance": [],
      "authorship_tag": "ABX9TyNIgiG43pTwhBfbgRxr2Zk6",
      "include_colab_link": true
    },
    "kernelspec": {
      "name": "python3",
      "display_name": "Python 3"
    }
  },
  "cells": [
    {
      "cell_type": "markdown",
      "metadata": {
        "id": "view-in-github",
        "colab_type": "text"
      },
      "source": [
        "<a href=\"https://colab.research.google.com/github/guoheidanqq/deeplearningjeffheatonT81/blob/master/PythonTensorflowKerastest20201208.ipynb\" target=\"_parent\"><img src=\"https://colab.research.google.com/assets/colab-badge.svg\" alt=\"Open In Colab\"/></a>"
      ]
    },
    {
      "cell_type": "code",
      "metadata": {
        "id": "hXP21MAdOiAD",
        "colab": {
          "base_uri": "https://localhost:8080/"
        },
        "outputId": "35ead94c-01b2-4596-95e7-3a0931bbfb03"
      },
      "source": [
        "A=[10]*3\n",
        "A"
      ],
      "execution_count": null,
      "outputs": [
        {
          "output_type": "execute_result",
          "data": {
            "text/plain": [
              "[10, 10, 10]"
            ]
          },
          "metadata": {
            "tags": []
          },
          "execution_count": 4
        }
      ]
    },
    {
      "cell_type": "code",
      "metadata": {
        "id": "8ocb27x49KQf"
      },
      "source": [
        "import tensorflow as tf\n",
        "import \n"
      ],
      "execution_count": null,
      "outputs": []
    },
    {
      "cell_type": "code",
      "metadata": {
        "id": "Btfc73IjEFf5"
      },
      "source": [
        "import tensorflow.keras\n",
        "from tensorflow.keras.callbacks import EarlyStopping\n",
        "from tensorflow.keras.layers import Dense, Dropout\n",
        "from tensorflow.keras import regularizers\n",
        "from tensorflow.keras.datasets import mnist\n",
        "from tensorflow.keras.datasets.cifar10\n",
        "from tensorflow.keras.datasets.cifar100\n",
        "from tensorflow.keras.datasets.fashion_mnist\n",
        "from tensorflow.keras.datasets.imdb\n"
      ],
      "execution_count": 1,
      "outputs": []
    },
    {
      "cell_type": "code",
      "metadata": {
        "id": "yrKlTzyWK2Dj"
      },
      "source": [
        "(xtrain,ytrain),(xtest,ytest) =mnist.load_data()"
      ],
      "execution_count": 3,
      "outputs": []
    },
    {
      "cell_type": "code",
      "metadata": {
        "colab": {
          "base_uri": "https://localhost:8080/"
        },
        "id": "0uO0UWgULWyQ",
        "outputId": "e766c1d0-702e-4876-a426-588336ccc3ec"
      },
      "source": [
        "xtrain.shape"
      ],
      "execution_count": 5,
      "outputs": [
        {
          "output_type": "execute_result",
          "data": {
            "text/plain": [
              "(60000, 28, 28)"
            ]
          },
          "metadata": {
            "tags": []
          },
          "execution_count": 5
        }
      ]
    },
    {
      "cell_type": "code",
      "metadata": {
        "id": "QNvl7QerLcL8"
      },
      "source": [
        "import numpy as np \n",
        "from keras.applications.vgg16 import VGG16\n",
        "from keras.models import Model\n",
        "from keras.applications.resnet50\n"
      ],
      "execution_count": 6,
      "outputs": []
    },
    {
      "cell_type": "code",
      "metadata": {
        "colab": {
          "base_uri": "https://localhost:8080/"
        },
        "id": "0Z0RhFvDNz0c",
        "outputId": "58cd0e8a-c87f-4cb7-a03c-6827690ccb8b"
      },
      "source": [
        "\n",
        "vgg16Model = VGG16(weights='imagenet', include_top=True)\n",
        "for i, layer in enumerate(vgg16Model.layers):\n",
        "    print(i, layer.name, layer.output_shape)\n"
      ],
      "execution_count": 7,
      "outputs": [
        {
          "output_type": "stream",
          "text": [
            "Downloading data from https://storage.googleapis.com/tensorflow/keras-applications/vgg16/vgg16_weights_tf_dim_ordering_tf_kernels.h5\n",
            "553467904/553467096 [==============================] - 24s 0us/step\n",
            "0 input_1 [(None, 224, 224, 3)]\n",
            "1 block1_conv1 (None, 224, 224, 64)\n",
            "2 block1_conv2 (None, 224, 224, 64)\n",
            "3 block1_pool (None, 112, 112, 64)\n",
            "4 block2_conv1 (None, 112, 112, 128)\n",
            "5 block2_conv2 (None, 112, 112, 128)\n",
            "6 block2_pool (None, 56, 56, 128)\n",
            "7 block3_conv1 (None, 56, 56, 256)\n",
            "8 block3_conv2 (None, 56, 56, 256)\n",
            "9 block3_conv3 (None, 56, 56, 256)\n",
            "10 block3_pool (None, 28, 28, 256)\n",
            "11 block4_conv1 (None, 28, 28, 512)\n",
            "12 block4_conv2 (None, 28, 28, 512)\n",
            "13 block4_conv3 (None, 28, 28, 512)\n",
            "14 block4_pool (None, 14, 14, 512)\n",
            "15 block5_conv1 (None, 14, 14, 512)\n",
            "16 block5_conv2 (None, 14, 14, 512)\n",
            "17 block5_conv3 (None, 14, 14, 512)\n",
            "18 block5_pool (None, 7, 7, 512)\n",
            "19 flatten (None, 25088)\n",
            "20 fc1 (None, 4096)\n",
            "21 fc2 (None, 4096)\n",
            "22 predictions (None, 1000)\n"
          ],
          "name": "stdout"
        }
      ]
    },
    {
      "cell_type": "code",
      "metadata": {
        "colab": {
          "base_uri": "https://localhost:8080/"
        },
        "id": "CIeSgi8EN_V6",
        "outputId": "3a7301b8-ea56-42d6-a967-07d42ad8e611"
      },
      "source": [
        "vgg16Model.summary()"
      ],
      "execution_count": 8,
      "outputs": [
        {
          "output_type": "stream",
          "text": [
            "Model: \"vgg16\"\n",
            "_________________________________________________________________\n",
            "Layer (type)                 Output Shape              Param #   \n",
            "=================================================================\n",
            "input_1 (InputLayer)         [(None, 224, 224, 3)]     0         \n",
            "_________________________________________________________________\n",
            "block1_conv1 (Conv2D)        (None, 224, 224, 64)      1792      \n",
            "_________________________________________________________________\n",
            "block1_conv2 (Conv2D)        (None, 224, 224, 64)      36928     \n",
            "_________________________________________________________________\n",
            "block1_pool (MaxPooling2D)   (None, 112, 112, 64)      0         \n",
            "_________________________________________________________________\n",
            "block2_conv1 (Conv2D)        (None, 112, 112, 128)     73856     \n",
            "_________________________________________________________________\n",
            "block2_conv2 (Conv2D)        (None, 112, 112, 128)     147584    \n",
            "_________________________________________________________________\n",
            "block2_pool (MaxPooling2D)   (None, 56, 56, 128)       0         \n",
            "_________________________________________________________________\n",
            "block3_conv1 (Conv2D)        (None, 56, 56, 256)       295168    \n",
            "_________________________________________________________________\n",
            "block3_conv2 (Conv2D)        (None, 56, 56, 256)       590080    \n",
            "_________________________________________________________________\n",
            "block3_conv3 (Conv2D)        (None, 56, 56, 256)       590080    \n",
            "_________________________________________________________________\n",
            "block3_pool (MaxPooling2D)   (None, 28, 28, 256)       0         \n",
            "_________________________________________________________________\n",
            "block4_conv1 (Conv2D)        (None, 28, 28, 512)       1180160   \n",
            "_________________________________________________________________\n",
            "block4_conv2 (Conv2D)        (None, 28, 28, 512)       2359808   \n",
            "_________________________________________________________________\n",
            "block4_conv3 (Conv2D)        (None, 28, 28, 512)       2359808   \n",
            "_________________________________________________________________\n",
            "block4_pool (MaxPooling2D)   (None, 14, 14, 512)       0         \n",
            "_________________________________________________________________\n",
            "block5_conv1 (Conv2D)        (None, 14, 14, 512)       2359808   \n",
            "_________________________________________________________________\n",
            "block5_conv2 (Conv2D)        (None, 14, 14, 512)       2359808   \n",
            "_________________________________________________________________\n",
            "block5_conv3 (Conv2D)        (None, 14, 14, 512)       2359808   \n",
            "_________________________________________________________________\n",
            "block5_pool (MaxPooling2D)   (None, 7, 7, 512)         0         \n",
            "_________________________________________________________________\n",
            "flatten (Flatten)            (None, 25088)             0         \n",
            "_________________________________________________________________\n",
            "fc1 (Dense)                  (None, 4096)              102764544 \n",
            "_________________________________________________________________\n",
            "fc2 (Dense)                  (None, 4096)              16781312  \n",
            "_________________________________________________________________\n",
            "predictions (Dense)          (None, 1000)              4097000   \n",
            "=================================================================\n",
            "Total params: 138,357,544\n",
            "Trainable params: 138,357,544\n",
            "Non-trainable params: 0\n",
            "_________________________________________________________________\n"
          ],
          "name": "stdout"
        }
      ]
    },
    {
      "cell_type": "code",
      "metadata": {
        "id": "mOCchrcHO7uk"
      },
      "source": [
        ""
      ],
      "execution_count": null,
      "outputs": []
    }
  ]
}